{
 "cells": [
  {
   "cell_type": "code",
   "execution_count": 13,
   "metadata": {},
   "outputs": [],
   "source": [
    "import numpy as np\n",
    "from amuse.datamodel import Particles\n",
    "from amuse.units import units\n",
    "from scipy.integrate import quad"
   ]
  },
  {
   "cell_type": "code",
   "execution_count": 16,
   "metadata": {},
   "outputs": [],
   "source": [
    "def sample_stellar_mass(sample_imf_mass, num_bins=10, min_samp_mass=1.0,\n",
    "                              max_samp_mass=150.0, sum_small=False):\n",
    "\n",
    "    [n_stars, bins, lam, norm] = sample_stars_poisson(sample_imf_mass, min_samp_mass, max_samp_mass, num_bins)\n",
    "\n",
    "    # Now use that to sample the IMF.\n",
    "    masses = np.zeros(n_stars.sum())\n",
    "    k = 0\n",
    "    for i, n in enumerate(n_stars):\n",
    "        #print \"Pulling \", n, \"stars from ranges \", bins[i], \"to \", bins[i+1]\n",
    "        for j in range(n):\n",
    "\n",
    "            while (masses[k] == 0):\n",
    "\n",
    "                m = np.random.uniform(low=bins[i], high=bins[i+1])\n",
    "                r = np.random.uniform()\n",
    "                p = mkroupa(m, norm)\n",
    "\n",
    "                if (p/r > 1.0):\n",
    "                    masses[k] = m\n",
    "\n",
    "            k+=1\n",
    "\n",
    "    # Sum all stars < 1 MSun into stars > 1 MSun.\n",
    "    if (sum_small):\n",
    "        masses = collect_small_stars_mass(masses)\n",
    "\n",
    "    np.random.shuffle(masses)\n",
    "\n",
    "    return masses\n",
    "\n",
    "def sample_stars_poisson(sink_mass, M_min, M_max, num_bins):\n",
    "    \"\"\"\n",
    "    Return a poisson random sampling from the Kroupa IMF of sink total\n",
    "    mass from M_min to M_max separated into num_bins in logspace.\n",
    "\n",
    "    Returns:\n",
    "        n_stars: Number of stars in each logarithmic bin\n",
    "        binsL:   The bin edges, including the right most bin edge\n",
    "        lam:     The average number of stars in each bin that the\n",
    "                 Poisson sample is centered around.\n",
    "        norm:    Norm to be used to sample the Kroupa IMF\n",
    "                 using the n_stars array.\n",
    "    \"\"\"\n",
    "\n",
    "    norm_inv = quad(kroupa,M_min,M_max,args=(1))[0]\n",
    "\n",
    "    norm = 1/norm_inv\n",
    "\n",
    "    binsL = np.logspace(np.log10(M_min),np.log10(M_max),num_bins+1)\n",
    "    mass_per_bin = []\n",
    "    frac_per_bin = []\n",
    "\n",
    "    avg_mass = quad(mkroupa, M_min, M_max, args=(norm))[0]\n",
    "\n",
    "    for i in range(num_bins):\n",
    "        mass_per_bin.append( quad(mkroupa, binsL[i], binsL[i+1], args=(norm))[0]\n",
    "                             / quad(kroupa, binsL[i], binsL[i+1], args=(norm))[0] )\n",
    "        frac_per_bin.append( quad(mkroupa, binsL[i], binsL[i+1], args=(norm))[0]\n",
    "                             / avg_mass )\n",
    "\n",
    "    mass_per_bin = np.array(mass_per_bin)\n",
    "    frac_per_bin = np.array(frac_per_bin)\n",
    "\n",
    "    lam = sink_mass*frac_per_bin/mass_per_bin\n",
    "\n",
    "    n_stars = np.random.poisson(lam=lam)\n",
    "\n",
    "    return n_stars, binsL, lam, norm\n",
    "\n",
    "def kroupa(m,a):\n",
    "\n",
    "    if (0.001 <= m < 0.08):\n",
    "        k = a*m**(-0.3)\n",
    "    elif (0.08 <= m < 0.5):\n",
    "        k = a*(0.08)*m**(-1.3)\n",
    "    elif (0.5 <= m):\n",
    "        k = a*(0.08*0.5)*m**(-2.3)\n",
    "    else:\n",
    "        print(\"Invalid mass range!\")\n",
    "        k=0\n",
    "    return k\n",
    "\n",
    "\n",
    "def mkroupa(m,a):\n",
    "\n",
    "    if (0.001 <= m < 0.08):\n",
    "        k = m*a*m**(-0.3)\n",
    "    elif (0.08 <= m < 0.5):\n",
    "        k = m*a*(0.08)*m**(-1.3)\n",
    "    elif (0.5 <= m):\n",
    "        k = m*a*(0.08*0.5)*m**(-2.3)\n",
    "    else:\n",
    "        print(\"Invalid mass range!\")\n",
    "        k=0\n",
    "    return k"
   ]
  },
  {
   "cell_type": "code",
   "execution_count": 17,
   "metadata": {},
   "outputs": [
    {
     "name": "stdout",
     "output_type": "stream",
     "text": [
      " queued 16809 stars, mass 10291.33601566899, max mass 121.86314275212084\n"
     ]
    }
   ],
   "source": [
    "sample_imf_mass = 10000.0 | units.MSun\n",
    "sample_imf_bins = 10\n",
    "max_imf_mass = 150.0 | units.MSun\n",
    "min_imf_mass = 0.08 | units.MSun\n",
    "sum_small = False\n",
    "\n",
    "new_masses = sample_stellar_mass(\n",
    "                            sample_imf_mass.value_in(units.MSun),\n",
    "                            num_bins=sample_imf_bins,\n",
    "                            min_samp_mass=min_imf_mass.value_in(units.MSun),\n",
    "                            max_samp_mass=max_imf_mass.value_in(units.MSun),\n",
    "                            sum_small=sum_small,\n",
    "            )\n",
    "\n",
    "print(\" queued {} stars,\".format(len(new_masses)), end='')\n",
    "print(\" mass {},\".format(np.sum(new_masses)), end='')\n",
    "print(\" max mass {}\".format(np.amax(new_masses)))"
   ]
  },
  {
   "cell_type": "code",
   "execution_count": 23,
   "metadata": {},
   "outputs": [
    {
     "name": "stdout",
     "output_type": "stream",
     "text": [
      "125\n",
      "[   7.01710271    7.01769395    7.01781929    7.03165951    7.04692789\n",
      "    7.05659733    7.06572201    7.14295456    7.1519849     7.17883734\n",
      "    7.19710843    7.25457339    7.29343468    7.30056172    7.31248224\n",
      "    7.31499302    7.38650548    7.44384154    7.4520418     7.50618098\n",
      "    7.59296212    7.63374628    7.67032339    7.7143474     7.77064589\n",
      "    7.77730221    7.93219975    8.08043557    8.09870626    8.2056488\n",
      "    8.44008246    8.69268796    8.80118025    8.823361      8.82808139\n",
      "    8.88953083    9.07882126    9.16822802    9.18108017    9.26452629\n",
      "    9.39106596    9.54387615    9.63774821    9.65110582    9.75452753\n",
      "    9.99989364   10.05590185   10.1694597    10.1809412    10.26521675\n",
      "   10.3963439    10.75353809   10.95786322   10.97205532   11.07037009\n",
      "   11.0966625    11.32744177   11.39988308   11.52266846   11.67767803\n",
      "   11.692658     11.71848894   11.76780922   12.1326735    12.21713659\n",
      "   12.352921     12.4375189    12.46121233   12.6218106    12.93116308\n",
      "   13.2791198    13.39733799   13.47520154   13.5553313    13.56164211\n",
      "   13.66754129   13.71594408   14.03895085   14.22606325   14.36908869\n",
      "   14.86327514   14.86896751   15.24557253   15.30168159   15.39647197\n",
      "   15.47855559   16.32138841   16.60164621   16.63115425   16.89834446\n",
      "   19.44461649   19.59970982   19.61546798   20.7783068    21.56714835\n",
      "   22.27424993   23.66180633   24.13729488   24.17737319   24.79401954\n",
      "   25.13940573   25.31980739   26.68224609   27.17292905   28.57623625\n",
      "   29.4083301    29.61768654   33.26650503   33.42631792   34.16906521\n",
      "   34.88672752   40.95688798   46.13154542   46.68834198   47.23632716\n",
      "   49.4324487    51.73421127   52.07008767   53.63494048   54.17901943\n",
      "   59.98106083   70.47683424   81.76754492  103.5302797   121.86314275]\n"
     ]
    }
   ],
   "source": [
    "high_mass_stars = new_masses > 7.0\n",
    "print(len(new_masses[high_mass_stars]))\n",
    "print(np.sort(new_masses[high_mass_stars]))"
   ]
  },
  {
   "cell_type": "code",
   "execution_count": 30,
   "metadata": {},
   "outputs": [
    {
     "name": "stdout",
     "output_type": "stream",
     "text": [
      "[ 10.    7.1   5.    2.    1.    0.4   0.3   0.2   0.1]\n"
     ]
    }
   ],
   "source": [
    "# Practicing\n",
    "pure_rand = np.array([0.1, 0.2, 7.1, 0.4, 1.0, 2.0, 5.0, 0.3, 10.0])\n",
    "\n",
    "sorted_pure_rand = np.sort(pure_rand)[::-1]\n",
    "print(sorted_pure_rand)"
   ]
  },
  {
   "cell_type": "code",
   "execution_count": 53,
   "metadata": {},
   "outputs": [
    {
     "name": "stdout",
     "output_type": "stream",
     "text": [
      "[ 10.    7.1]\n",
      "[ 1.   0.2  2.   0.1  5.   0.4  0.3]\n",
      "[ 0.4  0.2  5.   0.3  1.   2.   0.1]\n",
      "[ 0.4  0.2  5. ]\n"
     ]
    },
    {
     "ename": "TypeError",
     "evalue": "only integer scalar arrays can be converted to a scalar index",
     "output_type": "error",
     "traceback": [
      "\u001b[0;31m---------------------------------------------------------------------------\u001b[0m",
      "\u001b[0;31mTypeError\u001b[0m                                 Traceback (most recent call last)",
      "\u001b[0;32m<ipython-input-53-f11f9c4e382e>\u001b[0m in \u001b[0;36m<module>\u001b[0;34m\u001b[0m\n\u001b[1;32m     12\u001b[0m \u001b[0mprint\u001b[0m\u001b[0;34m(\u001b[0m\u001b[0mpartial_less_massive_arr_rand\u001b[0m\u001b[0;34m)\u001b[0m\u001b[0;34m\u001b[0m\u001b[0;34m\u001b[0m\u001b[0m\n\u001b[1;32m     13\u001b[0m \u001b[0;34m\u001b[0m\u001b[0m\n\u001b[0;32m---> 14\u001b[0;31m \u001b[0mnp\u001b[0m\u001b[0;34m.\u001b[0m\u001b[0mconcatenate\u001b[0m\u001b[0;34m(\u001b[0m\u001b[0mmost_massive_arr\u001b[0m\u001b[0;34m,\u001b[0m \u001b[0mpartial_less_massive_arr_rand\u001b[0m\u001b[0;34m)\u001b[0m\u001b[0;34m\u001b[0m\u001b[0;34m\u001b[0m\u001b[0m\n\u001b[0m\u001b[1;32m     15\u001b[0m \u001b[0mprint\u001b[0m\u001b[0;34m(\u001b[0m\u001b[0mpartial_less_massive_arr_rand\u001b[0m\u001b[0;34m)\u001b[0m\u001b[0;34m\u001b[0m\u001b[0;34m\u001b[0m\u001b[0m\n\u001b[1;32m     16\u001b[0m \u001b[0;34m\u001b[0m\u001b[0m\n",
      "\u001b[0;32m<__array_function__ internals>\u001b[0m in \u001b[0;36mconcatenate\u001b[0;34m(*args, **kwargs)\u001b[0m\n",
      "\u001b[0;31mTypeError\u001b[0m: only integer scalar arrays can be converted to a scalar index"
     ]
    }
   ],
   "source": [
    "most_massive = sorted_pure_rand > 7\n",
    "print(sorted_pure_rand[most_massive])\n",
    "most_massive_arr = sorted_pure_rand[most_massive]\n",
    "\n",
    "print(sorted_pure_rand[len(most_massive_arr):])\n",
    "less_massive_arr = sorted_pure_rand[len(most_massive_arr):]\n",
    "np.random.shuffle(less_massive_arr)\n",
    "\n",
    "print(less_massive_arr)\n",
    "\n",
    "partial_less_massive_arr_rand = less_massive_arr[:3]\n",
    "print(partial_less_massive_arr_rand)\n",
    "\n",
    "np.concatenate(most_massive_arr, partial_less_massive_arr_rand)\n",
    "print(partial_less_massive_arr_rand)\n",
    "\n",
    "print(sorted_pure_rand)"
   ]
  },
  {
   "cell_type": "code",
   "execution_count": null,
   "metadata": {},
   "outputs": [],
   "source": []
  }
 ],
 "metadata": {
  "kernelspec": {
   "display_name": "Python 3",
   "language": "python",
   "name": "python3"
  },
  "language_info": {
   "codemirror_mode": {
    "name": "ipython",
    "version": 3
   },
   "file_extension": ".py",
   "mimetype": "text/x-python",
   "name": "python",
   "nbconvert_exporter": "python",
   "pygments_lexer": "ipython3",
   "version": "3.7.7"
  }
 },
 "nbformat": 4,
 "nbformat_minor": 4
}
