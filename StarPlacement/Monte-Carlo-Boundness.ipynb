{
 "cells": [
  {
   "cell_type": "code",
   "execution_count": 1,
   "metadata": {
    "collapsed": true
   },
   "outputs": [],
   "source": [
    "import numpy as np"
   ]
  },
  {
   "cell_type": "markdown",
   "metadata": {},
   "source": [
    "# A simple Monte Carlo method to estimate pi\n",
    "\n",
    "We can create a square region and generate a point with uniformly distributed x & y position (0,1).\n",
    "\n",
    "By incrementing a counter whenever a point is placed inside of a region defined by the unit circle and dividing the count by the total number of placements, we can estimate the area of the partial circle and therefore pi.\n",
    "\n",
    "1. Generate uniform random x & y value\n",
    "2. determine if point is within unit circle\n",
    "3. if yes, increment counter\n",
    "4. repeat with more iterations leading to higher accuracy"
   ]
  },
  {
   "cell_type": "code",
   "execution_count": 6,
   "metadata": {
    "collapsed": true
   },
   "outputs": [],
   "source": [
    "def pi_estimate(iterations):\n",
    "    \n",
    "    counter = 0\n",
    "    for i in np.arange(0, iterations):\n",
    "        x2 = np.random.uniform()**2\n",
    "        y2 = np.random.uniform()**2\n",
    "        if x2 + y2 < 1.0:\n",
    "            counter += 1\n",
    "    pi = (float(counter)/iterations) * 4\n",
    "    return pi"
   ]
  },
  {
   "cell_type": "code",
   "execution_count": 12,
   "metadata": {},
   "outputs": [
    {
     "name": "stdout",
     "output_type": "stream",
     "text": [
      "Using 10 points:  4.0\n",
      "Using 100 points:  3.44\n",
      "Using 100k points  3.14508\n"
     ]
    }
   ],
   "source": [
    "print \"Using 10 points: \", pi_estimate(10)\n",
    "print \"Using 100 points: \", pi_estimate(100)\n",
    "print \"Using 100k points \", pi_estimate(100000)"
   ]
  },
  {
   "cell_type": "markdown",
   "metadata": {},
   "source": [
    "# Monte Carlo: likelihood of boundness of new stars in Torch\n",
    "\n",
    "Now for something a bit more complicated but based on the same principal of many iterations of random sampling.\n",
    "\n",
    "1. Define spherical region in which stars can be placed.\n",
    "    * This would correspond to the size of a sink particle\n",
    "2. Generate two masses from Kroupa distribution (or use median star mass of ~0.1Msun).\n",
    "3. Generate two sets of 3-D coordinates inside sink region to represent two stars.\n",
    "    * Pulled from isothermal or uniform density or other spatial distribution\n",
    "4. Assign a velocity to each star.\n",
    "    * Pulled from gaussian distribution about set value such as typical gas sound speed or calculated virial velocity.\n",
    "5. Calculate if the two stars in their spawned state are bound to one another.\n",
    "6. If yes, iterate counter.\n",
    "7. Clear stars, repeat.\n",
    "8. Report % of bound pairs"
   ]
  },
  {
   "cell_type": "code",
   "execution_count": null,
   "metadata": {
    "collapsed": true
   },
   "outputs": [],
   "source": [
    "# Could (or maybe should) use Class architecture for this...\n",
    "def generate_particle_dict():\n",
    "    return\n",
    "def assign_velocity_to_particle():\n",
    "    return\n",
    "def assign_position_to_particle():\n",
    "    return\n",
    "def calculate_boundness():\n",
    "    return\n",
    "def run_monte_carlo_boundness(iterations):\n",
    "    # Create particles\n",
    "    # assign positions\n",
    "    # assign velocities\n",
    "    # calculate if bound\n",
    "    # increment boundness counter\n",
    "    # clear particle data\n",
    "    \n",
    "    return"
   ]
  }
 ],
 "metadata": {
  "kernelspec": {
   "display_name": "Python 2",
   "language": "python",
   "name": "python2"
  },
  "language_info": {
   "codemirror_mode": {
    "name": "ipython",
    "version": 2
   },
   "file_extension": ".py",
   "mimetype": "text/x-python",
   "name": "python",
   "nbconvert_exporter": "python",
   "pygments_lexer": "ipython2",
   "version": "2.7.3"
  }
 },
 "nbformat": 4,
 "nbformat_minor": 2
}
