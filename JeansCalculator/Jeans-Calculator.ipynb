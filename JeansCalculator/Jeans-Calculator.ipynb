{
 "cells": [
  {
   "cell_type": "code",
   "execution_count": 1,
   "metadata": {
    "collapsed": true
   },
   "outputs": [],
   "source": [
    "import numpy as np"
   ]
  },
  {
   "cell_type": "markdown",
   "metadata": {},
   "source": [
    "# Jeans Instability Criterion\n",
    "\n",
    "The Jeans Length: a spatial scale at which the following condition is satisfied and gravitational collapse procededs.\n",
    "\n",
    "$\\lambda_{J} = \\sqrt{\\frac{\\pi c_{s}^2}{G\\rho_{0}}}$,\n",
    "\n",
    "Manipulating the conditional statement a bit, we can also define a density that, when acheieved at a defined Jeans spatial scale, prompts instability and gravitational collapse.\n",
    "\n",
    "$\\rho_{0} = \\frac{\\pi c_{s}^2}{G \\lambda_{J}^2}$"
   ]
  },
  {
   "cell_type": "code",
   "execution_count": 86,
   "metadata": {
    "collapsed": true
   },
   "outputs": [],
   "source": [
    "def jeans_length(box_size, ref_max):\n",
    "    \"\"\"Calculates minimum Jean's length for a TORCH simulation \n",
    "    (4 cells wide at highest level of refinement).\n",
    "    Assumes 16x16x16 cells within each FLASH block\"\"\"\n",
    "    \n",
    "    nxb = 8.0\n",
    "    cell_req = 2.5 # Refinement requirement enforced by sink particle routine (Federrath C. 2010)\n",
    "    cs = 2.0e4     # Gas soundspeed cm/s\n",
    "    G = 6.67259e-8 # Gravitational constant cm^3 / g s^2\n",
    "    \n",
    "    xb = (box_size) / (2**(ref_max-1))\n",
    "    xc = xb/nxb\n",
    "    jlength = xc * cell_req\n",
    "    jl_in_pc = \"Minimum Jean Length = {0:.6E} pc.\".format(jlength)\n",
    "    jl_in_cm = \"Minimum Jean Length = {0:.6E} cm.\".format(jlength * 3.08567758128E+18)\n",
    "    \n",
    "    jdens = (np.pi * cs**2) / (G * (jlength * 3.08567758128E+18)**2)\n",
    "    jdens_cgs = \"Corresponding density for sink creation = {0:.6E} g/cm^3.\".format(jdens)\n",
    "    print jl_in_cm\n",
    "    print jdens_cgs"
   ]
  },
  {
   "cell_type": "code",
   "execution_count": 87,
   "metadata": {},
   "outputs": [
    {
     "name": "stdout",
     "output_type": "stream",
     "text": [
      "Minimum Jean Length = 1.647930E+16 cm.\n",
      "Corresponding density for sink creation = 6.934867E-17 g/cm^3.\n"
     ]
    }
   ],
   "source": [
    "jeans_length(8.75, 10)"
   ]
  },
  {
   "cell_type": "code",
   "execution_count": 90,
   "metadata": {},
   "outputs": [
    {
     "name": "stdout",
     "output_type": "stream",
     "text": [
      "1.0 and 2.0\n"
     ]
    }
   ],
   "source": [
    "x = 1.0\n",
    "y = 2.0\n",
    "print \"{0:.1f} and {1:.1f}\".format(x, y)"
   ]
  },
  {
   "cell_type": "code",
   "execution_count": 11,
   "metadata": {},
   "outputs": [
    {
     "name": "stdout",
     "output_type": "stream",
     "text": [
      "0.0427246166243\n"
     ]
    }
   ],
   "source": [
    "# Testing Josh's density threshold calculation: what jeans lenght does it correspond to??\n",
    "cs = 2.0e4\n",
    "G = 6.67259e-8\n",
    "p_thresh = 1.083573e-18 #2.47685070948e-21 #4.01208875254e-23\n",
    "sink_accr_r = 1.326015625e+19\n",
    "jeans_ = np.sqrt((np.pi * cs**2) / (G * p_thresh))\n",
    "print jeans_ * 3.24078e-19"
   ]
  },
  {
   "cell_type": "code",
   "execution_count": null,
   "metadata": {
    "collapsed": true
   },
   "outputs": [],
   "source": []
  }
 ],
 "metadata": {
  "kernelspec": {
   "display_name": "Python 2",
   "language": "python",
   "name": "python2"
  },
  "language_info": {
   "codemirror_mode": {
    "name": "ipython",
    "version": 2
   },
   "file_extension": ".py",
   "mimetype": "text/x-python",
   "name": "python",
   "nbconvert_exporter": "python",
   "pygments_lexer": "ipython2",
   "version": "2.7.3"
  }
 },
 "nbformat": 4,
 "nbformat_minor": 2
}
